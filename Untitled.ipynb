{
 "cells": [
  {
   "cell_type": "code",
   "execution_count": 2,
   "id": "blind-potato",
   "metadata": {},
   "outputs": [
    {
     "ename": "TypeError",
     "evalue": "fromtimestamp() missing required argument 'timestamp' (pos 1)",
     "output_type": "error",
     "traceback": [
      "\u001b[1;31m---------------------------------------------------------------------------\u001b[0m",
      "\u001b[1;31mTypeError\u001b[0m                                 Traceback (most recent call last)",
      "\u001b[1;32m<ipython-input-2-afd089b9033c>\u001b[0m in \u001b[0;36m<module>\u001b[1;34m\u001b[0m\n\u001b[0;32m      1\u001b[0m \u001b[1;32mfrom\u001b[0m \u001b[0mdatetime\u001b[0m \u001b[1;32mimport\u001b[0m \u001b[0mdatetime\u001b[0m\u001b[1;33m\u001b[0m\u001b[1;33m\u001b[0m\u001b[0m\n\u001b[1;32m----> 2\u001b[1;33m \u001b[0mdatetime\u001b[0m\u001b[1;33m.\u001b[0m\u001b[0mfromtimestamp\u001b[0m\u001b[1;33m(\u001b[0m\u001b[1;33m)\u001b[0m\u001b[1;33m\u001b[0m\u001b[1;33m\u001b[0m\u001b[0m\n\u001b[0m",
      "\u001b[1;31mTypeError\u001b[0m: fromtimestamp() missing required argument 'timestamp' (pos 1)"
     ]
    }
   ],
   "source": [
    "from datetime import datetime\n",
    "datetime.fromtimestamp()"
   ]
  },
  {
   "cell_type": "code",
   "execution_count": 7,
   "id": "above-facial",
   "metadata": {},
   "outputs": [],
   "source": [
    "import sys\n",
    "import time as pytime\n",
    "from time import sleep\n",
    "if sys.version_info[0] >= 3:\n",
    "    from datetime import timezone\n",
    "def pause_until(time):\n",
    "    \"\"\" Pause your program until a specific end time. 'time' is either\n",
    "    a valid datetime object or unix timestamp in seconds (i.e. seconds\n",
    "    since Unix epoch) \"\"\"\n",
    "    end = time\n",
    "\n",
    "    # Convert datetime to unix timestamp and adjust for locality\n",
    "    if isinstance(time, datetime):\n",
    "        # If we're on Python 3 and the user specified a timezone,\n",
    "        # convert to UTC and get the timestamp.\n",
    "        if sys.version_info[0] >= 3 and time.tzinfo:\n",
    "            end = time.astimezone(timezone.utc).timestamp()\n",
    "        else:\n",
    "            zoneDiff = pytime.time() - (datetime.now() - datetime(1970, 1, 1)).total_seconds()\n",
    "            end = (time - datetime(1970, 1, 1)).total_seconds() + zoneDiff\n",
    "\n",
    "    # Type check\n",
    "    if not isinstance(end, (int, float)):\n",
    "        raise Exception('The time parameter is not a number or datetime object')\n",
    "\n",
    "    # Now we wait\n",
    "    while True:\n",
    "        now = pytime.time()\n",
    "        diff = end - now\n",
    "\n",
    "        #\n",
    "        # Time is up!\n",
    "        #\n",
    "        if diff <= 0:\n",
    "            break\n",
    "        else:\n",
    "            # 'logarithmic' sleeping to minimize loop iterations\n",
    "            sleep(diff / 2)\n",
    "pause_until(5)"
   ]
  },
  {
   "cell_type": "code",
   "execution_count": null,
   "id": "quality-juice",
   "metadata": {},
   "outputs": [],
   "source": []
  },
  {
   "cell_type": "code",
   "execution_count": null,
   "id": "manufactured-invention",
   "metadata": {},
   "outputs": [],
   "source": []
  }
 ],
 "metadata": {
  "kernelspec": {
   "display_name": "Python 3",
   "language": "python",
   "name": "python3"
  },
  "language_info": {
   "codemirror_mode": {
    "name": "ipython",
    "version": 3
   },
   "file_extension": ".py",
   "mimetype": "text/x-python",
   "name": "python",
   "nbconvert_exporter": "python",
   "pygments_lexer": "ipython3",
   "version": "3.8.8"
  }
 },
 "nbformat": 4,
 "nbformat_minor": 5
}
