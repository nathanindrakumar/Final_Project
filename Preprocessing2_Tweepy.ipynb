{
 "cells": [
  {
   "cell_type": "code",
   "execution_count": 1,
   "id": "adequate-facility",
   "metadata": {},
   "outputs": [],
   "source": [
    "import tweepy"
   ]
  },
  {
   "cell_type": "code",
   "execution_count": 2,
   "id": "outside-pioneer",
   "metadata": {},
   "outputs": [],
   "source": [
    "auth = tweepy.OAuthHandler('UKfmz6I5QstcwWakZB7ZEAmDc', 'b7Etp7pH199AOQly5neLSKqFhltAdiLmCOPYSJ6Q4IzG1ddjSp')"
   ]
  },
  {
   "cell_type": "code",
   "execution_count": 3,
   "id": "false-guatemala",
   "metadata": {},
   "outputs": [
    {
     "name": "stdout",
     "output_type": "stream",
     "text": [
      "日本のツイートトレンドTOP10は['#不可解弐Q3', '#にじPEX', '交流戦優勝', '#DIDWIN', '#ヒロアカMVP', '#チーム天彦VSチーム広瀬', '女優顔負けの美人', '性格美人度100', '性格… https://t.co/Sm3H5HtaE9\n",
      "El monte Trashmore\n",
      "#NationalGeographic #Fotodeldia #Python #Tweepy https://t.co/PyO9C21nuL\n",
      "TwitterAPIとかミリも知らんかったし多分ブクマに残ってたこの辺から適当に拾ってくっつけて書いた\n",
      "https://t.co/IeacLmMtTr\n",
      "https://t.co/3JoQYUr91h\n",
      "https://t.co/EEh4uNZVQ7\n",
      "Goede zaterdagmorgen Tweepy's 🌥️\n",
      "\n",
      "Variabele waterjuffer - Lantaarntje - Grote roodoogjuffer https://t.co/p2WdDbFP8P\n",
      "_________________________________________\n",
      "/ New England Life, of course. Why do you \\\n",
      "\\ ask?… https://t.co/C0b3uv9oYI\n",
      "RT @python_ishikoro: 日本のツイートトレンドベスト10は['交流戦優勝', '#不可解弐Q3', '#にじPEX', '#DIDWIN', '#ヒロアカMVP', '#MUSICFAIR', '女優顔負けの美人', '性格美人度100', '性格大和撫子',…\n",
      "RT @python_ishikoro: 日本のツイートトレンドベスト10は['交流戦優勝', '#不可解弐Q3', '#にじPEX', '#DIDWIN', '#ヒロアカMVP', '#MUSICFAIR', '女優顔負けの美人', '性格美人度100', '性格大和撫子',…\n",
      "日本のツイートトレンドベスト10は['交流戦優勝', '#不可解弐Q3', '#にじPEX', '#DIDWIN', '#ヒロアカMVP', '#MUSICFAIR', '女優顔負けの美人', '性格美人度100', '性格大和撫… https://t.co/OO0UOb338O\n",
      "とりあえずこのtweepyのドキュメント読んで実装できたので，前ネットからそのまま引っ張ってきてよくわからずに使ってたrequests_oauthlibとかurlparseとかは使わなくできた\n",
      "\n",
      "https://t.co/5cDAvEpXwm\n",
      "RT @chinryu: 日本のツイートトレンドTOP10は['#不可解弐Q3', '交流戦優勝', '#あなたの性格美人度', '女優顔負けの美人', '性格美人度100', '性格大和撫子', '超絶美人', '#うるせえ俺は神絵師だフォローしろ', '#二宮ん家', 'す…\n"
     ]
    }
   ],
   "source": [
    "api = tweepy.API(auth)\n",
    "for tweet in tweepy.Cursor(api.search_tweets, q='tweepy').items(10):\n",
    "    print(tweet.text)"
   ]
  },
  {
   "cell_type": "code",
   "execution_count": 5,
   "id": "surrounded-burns",
   "metadata": {},
   "outputs": [],
   "source": [
    "def limit_handled(cursor):\n",
    "    while True:\n",
    "        try:\n",
    "            yield next(cursor)\n",
    "        except tweepy.RateLimitError:\n",
    "            time.sleep(15 * 60)\n",
    "\n"
   ]
  },
  {
   "cell_type": "code",
   "execution_count": 41,
   "id": "dangerous-denial",
   "metadata": {},
   "outputs": [
    {
     "ename": "SyntaxError",
     "evalue": "invalid syntax (<ipython-input-41-50c01ef540a7>, line 1)",
     "output_type": "error",
     "traceback": [
      "\u001b[1;36m  File \u001b[1;32m\"<ipython-input-41-50c01ef540a7>\"\u001b[1;36m, line \u001b[1;32m1\u001b[0m\n\u001b[1;33m    aapl = tweepy.Client.search_all_tweets((query = \"#AAPL OR #apple\"))\u001b[0m\n\u001b[1;37m                                                  ^\u001b[0m\n\u001b[1;31mSyntaxError\u001b[0m\u001b[1;31m:\u001b[0m invalid syntax\n"
     ]
    }
   ],
   "source": [
    "aapl = tweepy.Client.search_all_tweets()(query = \"#AAPL OR #apple\", end_time= \"2021-05-11T13:00:00.00Z\", start_time= \"2020-05-11T13:00:00.00Z\", max_results= \"500\", tweet.fields= \"created_at\")"
   ]
  },
  {
   "cell_type": "code",
   "execution_count": 39,
   "id": "alike-protocol",
   "metadata": {},
   "outputs": [
    {
     "ename": "TypeError",
     "evalue": "search_all_tweets() missing 2 required positional arguments: 'self' and 'query'",
     "output_type": "error",
     "traceback": [
      "\u001b[1;31m---------------------------------------------------------------------------\u001b[0m",
      "\u001b[1;31mTypeError\u001b[0m                                 Traceback (most recent call last)",
      "\u001b[1;32m<ipython-input-39-1455a145f5ea>\u001b[0m in \u001b[0;36m<module>\u001b[1;34m\u001b[0m\n\u001b[1;32m----> 1\u001b[1;33m \u001b[1;32mfor\u001b[0m \u001b[0mtweet\u001b[0m \u001b[1;32min\u001b[0m \u001b[0mtweepy\u001b[0m\u001b[1;33m.\u001b[0m\u001b[0mPaginator\u001b[0m\u001b[1;33m(\u001b[0m\u001b[0mtweepy\u001b[0m\u001b[1;33m.\u001b[0m\u001b[0mClient\u001b[0m\u001b[1;33m.\u001b[0m\u001b[0msearch_all_tweets\u001b[0m\u001b[1;33m(\u001b[0m\u001b[1;33m)\u001b[0m\u001b[1;33m,\u001b[0m \u001b[0mquery\u001b[0m\u001b[1;33m=\u001b[0m \u001b[1;34m\"#AAPL OR #apple\"\u001b[0m\u001b[1;33m)\u001b[0m\u001b[1;33m.\u001b[0m\u001b[0mflatten\u001b[0m\u001b[1;33m(\u001b[0m\u001b[1;33m)\u001b[0m\u001b[1;33m:\u001b[0m\u001b[1;33m\u001b[0m\u001b[1;33m\u001b[0m\u001b[0m\n\u001b[0m\u001b[0;32m      2\u001b[0m     \u001b[0mprint\u001b[0m\u001b[1;33m(\u001b[0m\u001b[0mtweet\u001b[0m\u001b[1;33m.\u001b[0m\u001b[0mid\u001b[0m\u001b[1;33m)\u001b[0m\u001b[1;33m\u001b[0m\u001b[1;33m\u001b[0m\u001b[0m\n",
      "\u001b[1;31mTypeError\u001b[0m: search_all_tweets() missing 2 required positional arguments: 'self' and 'query'"
     ]
    }
   ],
   "source": [
    "\n",
    "for tweet in tweepy.Paginator(Client.search_all_tweets, query= \"#AAPL OR #apple\", end_time= \"2021-05-11T13:00:00.00Z\", start_time= \"2020-05-11T13:00:00.00Z\", max_results= 500, tweet.fields= \"created_at\").flatten():\n",
    "    print(tweet.id)"
   ]
  },
  {
   "cell_type": "code",
   "execution_count": 44,
   "id": "lesser-spoke",
   "metadata": {},
   "outputs": [
    {
     "ename": "KeyboardInterrupt",
     "evalue": "",
     "output_type": "error",
     "traceback": [
      "\u001b[1;31m---------------------------------------------------------------------------\u001b[0m",
      "\u001b[1;31mKeyboardInterrupt\u001b[0m                         Traceback (most recent call last)",
      "\u001b[1;32m<ipython-input-44-b282d6463b91>\u001b[0m in \u001b[0;36m<module>\u001b[1;34m\u001b[0m\n\u001b[0;32m      1\u001b[0m \u001b[0mhi\u001b[0m \u001b[1;33m=\u001b[0m \u001b[1;36m0\u001b[0m\u001b[1;33m\u001b[0m\u001b[1;33m\u001b[0m\u001b[0m\n\u001b[0;32m      2\u001b[0m \u001b[1;32mwhile\u001b[0m \u001b[1;32mTrue\u001b[0m\u001b[1;33m:\u001b[0m\u001b[1;33m\u001b[0m\u001b[1;33m\u001b[0m\u001b[0m\n\u001b[1;32m----> 3\u001b[1;33m     \u001b[0mhi\u001b[0m \u001b[1;33m+=\u001b[0m \u001b[1;36m1\u001b[0m\u001b[1;33m\u001b[0m\u001b[1;33m\u001b[0m\u001b[0m\n\u001b[0m",
      "\u001b[1;31mKeyboardInterrupt\u001b[0m: "
     ]
    }
   ],
   "source": [
    "hi = 0\n",
    "while True:\n",
    "    hi += 1"
   ]
  },
  {
   "cell_type": "code",
   "execution_count": 45,
   "id": "periodic-miracle",
   "metadata": {},
   "outputs": [
    {
     "name": "stdout",
     "output_type": "stream",
     "text": [
      "15320124\n"
     ]
    }
   ],
   "source": [
    "print(hi)"
   ]
  },
  {
   "cell_type": "code",
   "execution_count": null,
   "id": "determined-plasma",
   "metadata": {},
   "outputs": [],
   "source": []
  }
 ],
 "metadata": {
  "kernelspec": {
   "display_name": "Python 3",
   "language": "python",
   "name": "python3"
  },
  "language_info": {
   "codemirror_mode": {
    "name": "ipython",
    "version": 3
   },
   "file_extension": ".py",
   "mimetype": "text/x-python",
   "name": "python",
   "nbconvert_exporter": "python",
   "pygments_lexer": "ipython3",
   "version": "3.8.8"
  }
 },
 "nbformat": 4,
 "nbformat_minor": 5
}
