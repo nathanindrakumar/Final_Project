{
 "cells": [
  {
   "cell_type": "code",
   "execution_count": 1,
   "id": "demographic-membership",
   "metadata": {},
   "outputs": [],
   "source": [
    "import pandas as pd\n",
    "import numpy as np\n",
    "import json\n",
    "from sklearn.feature_extraction.text import TfidfVectorizer\n",
    "import re\n",
    "import dateutil.parser as parser\n",
    "from datetime import datetime, date, timedelta\n",
    "import torch\n",
    "import skorch\n",
    "import scipy\n",
    "import torch.nn as nn\n",
    "import torch\n",
    "import torch.nn.functional as F\n",
    "import sys\n",
    "from skorch.helper import DataFrameTransformer\n",
    "import time\n",
    "import matplotlib.pyplot as plt\n",
    "import seaborn as sns\n",
    "from sklearn.model_selection import GridSearchCV, cross_val_score\n",
    "from sklearn.svm import SVC\n",
    "from sklearn.metrics import classification_report, confusion_matrix, accuracy_score, mean_squared_error, r2_score\n",
    "from sklearn import metrics\n",
    "from sklearn.preprocessing import FunctionTransformer\n",
    "from skorch.callbacks import EarlyStopping\n",
    "from sklearn.pipeline import Pipeline\n",
    "import pickle\n",
    "from sklearn.linear_model import Lasso\n",
    "from sklearn.model_selection import GridSearchCV\n",
    "def identity_tokenizer(text):\n",
    "    return text\n",
    "def typechange(x):\n",
    "    return x.astype(dtype = np.float32)\n",
    "typetransform = FunctionTransformer(typechange)"
   ]
  },
  {
   "cell_type": "code",
   "execution_count": 2,
   "id": "aboriginal-walker",
   "metadata": {},
   "outputs": [],
   "source": [
    "with open(\"x_train.txt\", \"rb\") as fp:   # Unpickling\n",
    "    x_train = pickle.load(fp)\n",
    "with open(\"y_train.txt\", \"rb\") as fp:   # Unpickling\n",
    "    y_train = pickle.load(fp)\n",
    "with open(\"x_test.txt\", \"rb\") as fp:   # Unpickling\n",
    "    x_test = pickle.load(fp)\n",
    "with open(\"y_test.txt\", \"rb\") as fp:   # Unpickling\n",
    "    y_test = pickle.load(fp)"
   ]
  },
  {
   "cell_type": "markdown",
   "id": "olympic-enforcement",
   "metadata": {},
   "source": [
    "### Multiple Regression"
   ]
  },
  {
   "cell_type": "code",
   "execution_count": 4,
   "id": "transsexual-wells",
   "metadata": {},
   "outputs": [
    {
     "name": "stdout",
     "output_type": "stream",
     "text": [
      "RMSE: 2.0633279672117206\n"
     ]
    }
   ],
   "source": [
    "from sklearn.linear_model import LinearRegression\n",
    "lin_model = LinearRegression()\n",
    "\n",
    "\n",
    "def typechange(x):\n",
    "    return x.astype(dtype = np.float32)\n",
    "typetransform = FunctionTransformer(typechange)\n",
    "\n",
    "pipe = Pipeline([(\"tfidf_vector_com\", TfidfVectorizer(tokenizer=identity_tokenizer, input=\"array\", lowercase=False, norm=\"l2\", max_features=None, sublinear_tf=True,token_pattern=r'[^\\s]+')), (\"typetransform\", typetransform), (\"lin_model\", lin_model)])\n",
    "\n",
    "\n",
    "pipe.fit(X=x_train, y=y_train)\n",
    "y_pred = pipe.predict(x_test)\n",
    "rmse = mean_squared_error(y_test, y_pred, squared = False)\n",
    "print('RMSE:', rmse)"
   ]
  },
  {
   "cell_type": "markdown",
   "id": "simplified-transition",
   "metadata": {},
   "source": [
    "### Ridge Regression"
   ]
  },
  {
   "cell_type": "code",
   "execution_count": 6,
   "id": "rough-organ",
   "metadata": {},
   "outputs": [
    {
     "name": "stdout",
     "output_type": "stream",
     "text": [
      "RMSE: 1.9896362\n"
     ]
    }
   ],
   "source": [
    "from sklearn.linear_model import Ridge\n",
    "ridge_model = Ridge()\n",
    "\n",
    "\n",
    "def typechange(x):\n",
    "    return x.astype(dtype = np.float32)\n",
    "typetransform = FunctionTransformer(typechange)\n",
    "\n",
    "pipe = Pipeline([(\"tfidf_vector_com\", TfidfVectorizer(tokenizer=identity_tokenizer, input=\"array\", lowercase=False, norm=\"l2\", max_features=None, sublinear_tf=True,token_pattern=r'[^\\s]+')), (\"typetransform\", typetransform), (\"ridge_model\", ridge_model)])\n",
    "\n",
    "\n",
    "pipe.fit(X=x_train, y=y_train)\n",
    "y_pred = pipe.predict(x_test)\n",
    "rmse = mean_squared_error(y_test, y_pred, squared = False)\n",
    "print('RMSE:', rmse)"
   ]
  },
  {
   "cell_type": "code",
   "execution_count": 6,
   "id": "characteristic-rates",
   "metadata": {},
   "outputs": [
    {
     "name": "stdout",
     "output_type": "stream",
     "text": [
      "[1.00000000e-05 1.38949549e-05 1.93069773e-05 2.68269580e-05\n",
      " 3.72759372e-05 5.17947468e-05 7.19685673e-05 1.00000000e-04\n",
      " 1.38949549e-04 1.93069773e-04 2.68269580e-04 3.72759372e-04\n",
      " 5.17947468e-04 7.19685673e-04 1.00000000e-03 1.38949549e-03\n",
      " 1.93069773e-03 2.68269580e-03 3.72759372e-03 5.17947468e-03\n",
      " 7.19685673e-03 1.00000000e-02 1.38949549e-02 1.93069773e-02\n",
      " 2.68269580e-02 3.72759372e-02 5.17947468e-02 7.19685673e-02\n",
      " 1.00000000e-01 1.38949549e-01 1.93069773e-01 2.68269580e-01\n",
      " 3.72759372e-01 5.17947468e-01 7.19685673e-01 1.00000000e+00\n",
      " 1.38949549e+00 1.93069773e+00 2.68269580e+00 3.72759372e+00\n",
      " 5.17947468e+00 7.19685673e+00 1.00000000e+01 1.38949549e+01\n",
      " 1.93069773e+01 2.68269580e+01 3.72759372e+01 5.17947468e+01\n",
      " 7.19685673e+01 1.00000000e+02]\n"
     ]
    }
   ],
   "source": [
    "rangelist = np.logspace(-5, 2, 50)\n",
    "print(rangelist)"
   ]
  },
  {
   "cell_type": "code",
   "execution_count": 24,
   "id": "covered-rabbit",
   "metadata": {},
   "outputs": [
    {
     "name": "stdout",
     "output_type": "stream",
     "text": [
      "1e-05 RMSE: 2.0167823\n",
      "1.3894954943731388e-05 RMSE: 2.0132132\n",
      "1.9306977288832496e-05 RMSE: 2.0154734\n",
      "2.6826957952797274e-05 RMSE: 2.0137775\n",
      "3.727593720314938e-05 RMSE: 2.0124006\n",
      "5.1794746792312125e-05 RMSE: 2.0130188\n",
      "7.196856730011514e-05 RMSE: 2.0124938\n",
      "0.0001 RMSE: 2.0127099\n",
      "0.00013894954943731373 RMSE: 2.0120583\n",
      "0.00019306977288832496 RMSE: 2.012334\n",
      "0.00026826957952797245 RMSE: 2.010891\n",
      "0.0003727593720314938 RMSE: 2.0105393\n",
      "0.0005179474679231213 RMSE: 2.0092287\n",
      "0.0007196856730011514 RMSE: 2.0082896\n",
      "0.001 RMSE: 2.006572\n",
      "0.0013894954943731374 RMSE: 2.005066\n",
      "0.0019306977288832496 RMSE: 2.003894\n",
      "0.0026826957952797246 RMSE: 2.0026326\n",
      "0.003727593720314938 RMSE: 2.0013375\n",
      "0.005179474679231208 RMSE: 2.0005932\n",
      "0.007196856730011514 RMSE: 1.9993536\n",
      "0.01 RMSE: 1.9985099\n",
      "0.013894954943731374 RMSE: 1.9977165\n",
      "0.019306977288832496 RMSE: 1.9968549\n",
      "0.026826957952797246 RMSE: 1.9960574\n",
      "0.03727593720314938 RMSE: 1.9952542\n",
      "0.05179474679231207 RMSE: 1.9945084\n",
      "0.07196856730011514 RMSE: 1.9937649\n",
      "0.1 RMSE: 1.9930938\n",
      "0.1389495494373136 RMSE: 1.9924332\n",
      "0.19306977288832497 RMSE: 1.9918381\n",
      "0.2682695795279722 RMSE: 1.9912937\n",
      "0.3727593720314938 RMSE: 1.990797\n",
      "0.5179474679231213 RMSE: 1.9903396\n",
      "0.7196856730011514 RMSE: 1.9899566\n",
      "1.0 RMSE: 1.9896362\n",
      "1.389495494373136 RMSE: 1.9893991\n",
      "1.9306977288832496 RMSE: 1.989253\n",
      "2.682695795279722 RMSE: 1.9892164\n",
      "3.727593720314938 RMSE: 1.9893041\n",
      "5.179474679231202 RMSE: 1.9895322\n",
      "7.196856730011514 RMSE: 1.989927\n",
      "10.0 RMSE: 1.9905114\n",
      "13.89495494373136 RMSE: 1.9913126\n",
      "19.306977288832496 RMSE: 1.9923579\n",
      "26.82695795279722 RMSE: 1.9936781\n",
      "37.27593720314938 RMSE: 1.9953086\n",
      "51.79474679231202 RMSE: 1.9972768\n",
      "71.96856730011514 RMSE: 1.9996157\n",
      "100.0 RMSE: 2.0023465\n",
      "Optimum parameters: 2.682695795279722 : 1.9892164\n"
     ]
    }
   ],
   "source": [
    "rmselist = []\n",
    "for r in rangelist:\n",
    "    ridge_model = Ridge(alpha = r)\n",
    "\n",
    "\n",
    "    def typechange(x):\n",
    "        return x.astype(dtype = np.float32)\n",
    "    typetransform = FunctionTransformer(typechange)\n",
    "\n",
    "    pipe = Pipeline([(\"tfidf_vector_com\", TfidfVectorizer(tokenizer=identity_tokenizer, input=\"array\", lowercase=False, norm=\"l2\", max_features=None, sublinear_tf=True,token_pattern=r'[^\\s]+')), (\"typetransform\", typetransform), (\"ridge_model\", ridge_model)])\n",
    "\n",
    "\n",
    "    pipe.fit(X=x_train, y=y_train)\n",
    "    y_pred = pipe.predict(x_test)\n",
    "    rmse = mean_squared_error(y_test, y_pred, squared = False)\n",
    "    print(r,'RMSE:', rmse)\n",
    "    rmselist.append(rmse)\n",
    "    \n",
    "min_index = rmselist.index((min(rmselist)))\n",
    "print(\"Optimum parameters:\", rangelist[min_index],\":\",min(rmselist))"
   ]
  },
  {
   "cell_type": "code",
   "execution_count": 7,
   "id": "alternative-glucose",
   "metadata": {},
   "outputs": [
    {
     "name": "stdout",
     "output_type": "stream",
     "text": [
      "RMSE: 1.9892164\n"
     ]
    }
   ],
   "source": [
    "from sklearn.linear_model import Ridge\n",
    "ridge_model = Ridge(alpha = 2.682695795279722)\n",
    "\n",
    "\n",
    "def typechange(x):\n",
    "    return x.astype(dtype = np.float32)\n",
    "typetransform = FunctionTransformer(typechange)\n",
    "\n",
    "pipe = Pipeline([(\"tfidf_vector_com\", TfidfVectorizer(tokenizer=identity_tokenizer, input=\"array\", lowercase=False, norm=\"l2\", max_features=None, sublinear_tf=True,token_pattern=r'[^\\s]+')), (\"typetransform\", typetransform), (\"ridge_model\", ridge_model)])\n",
    "\n",
    "\n",
    "pipe.fit(X=x_train, y=y_train)\n",
    "y_pred = pipe.predict(x_test)\n",
    "rmse = mean_squared_error(y_test, y_pred, squared = False)\n",
    "print('RMSE:', rmse)"
   ]
  },
  {
   "cell_type": "markdown",
   "id": "intimate-coverage",
   "metadata": {},
   "source": [
    "### Lasso"
   ]
  },
  {
   "cell_type": "code",
   "execution_count": 11,
   "id": "major-stationery",
   "metadata": {},
   "outputs": [
    {
     "name": "stdout",
     "output_type": "stream",
     "text": [
      "RMSE: 2.0521414\n"
     ]
    }
   ],
   "source": [
    "from sklearn.linear_model import Lasso\n",
    "lasso_model = Lasso()\n",
    "\n",
    "\n",
    "def typechange(x):\n",
    "    return x.astype(dtype = np.float32)\n",
    "typetransform = FunctionTransformer(typechange)\n",
    "\n",
    "pipe = Pipeline([(\"tfidf_vector_com\", TfidfVectorizer(tokenizer=identity_tokenizer, input=\"array\", lowercase=False, norm=\"l2\", max_features=None, sublinear_tf=True,token_pattern=r'[^\\s]+')), (\"typetransform\", typetransform), (\"lasso_model\", lasso_model)])\n",
    "\n",
    "\n",
    "pipe.fit(X=x_train, y=y_train)\n",
    "y_pred = pipe.predict(x_test)\n",
    "rmse = mean_squared_error(y_test, y_pred, squared = False)\n",
    "print('RMSE:', rmse)"
   ]
  },
  {
   "cell_type": "code",
   "execution_count": 13,
   "id": "intended-banking",
   "metadata": {},
   "outputs": [
    {
     "name": "stderr",
     "output_type": "stream",
     "text": [
      "D:\\Documents\\anaconda3\\envs\\DataSciEnv\\lib\\site-packages\\sklearn\\linear_model\\_coordinate_descent.py:513: ConvergenceWarning: Objective did not converge. You might want to increase the number of iterations. Duality gap: 14649.3037109375, tolerance: 172.51239013671875\n",
      "  model = cd_fast.sparse_enet_coordinate_descent(\n"
     ]
    },
    {
     "name": "stdout",
     "output_type": "stream",
     "text": [
      "1e-05 RMSE: 1.9890218\n"
     ]
    },
    {
     "name": "stderr",
     "output_type": "stream",
     "text": [
      "D:\\Documents\\anaconda3\\envs\\DataSciEnv\\lib\\site-packages\\sklearn\\linear_model\\_coordinate_descent.py:513: ConvergenceWarning: Objective did not converge. You might want to increase the number of iterations. Duality gap: 10047.904296875, tolerance: 172.51239013671875\n",
      "  model = cd_fast.sparse_enet_coordinate_descent(\n"
     ]
    },
    {
     "name": "stdout",
     "output_type": "stream",
     "text": [
      "1.3894954943731388e-05 RMSE: 1.9892882\n",
      "1.9306977288832496e-05 RMSE: 1.9897976\n",
      "2.6826957952797274e-05 RMSE: 1.990392\n",
      "3.727593720314938e-05 RMSE: 1.9914534\n",
      "5.1794746792312125e-05 RMSE: 1.9929951\n",
      "7.196856730011514e-05 RMSE: 1.9948534\n",
      "0.0001 RMSE: 1.997008\n",
      "0.00013894954943731373 RMSE: 1.9997776\n",
      "0.00019306977288832496 RMSE: 2.0035157\n",
      "0.00026826957952797245 RMSE: 2.0081007\n",
      "0.0003727593720314938 RMSE: 2.014027\n",
      "0.0005179474679231213 RMSE: 2.0208683\n",
      "0.0007196856730011514 RMSE: 2.0283635\n",
      "0.001 RMSE: 2.0359077\n",
      "0.0013894954943731374 RMSE: 2.0422912\n",
      "0.0019306977288832496 RMSE: 2.0472767\n",
      "0.0026826957952797246 RMSE: 2.0504262\n",
      "0.003727593720314938 RMSE: 2.0509896\n",
      "0.005179474679231208 RMSE: 2.0515501\n",
      "0.007196856730011514 RMSE: 2.0521414\n",
      "0.01 RMSE: 2.0521414\n",
      "0.013894954943731374 RMSE: 2.0521414\n",
      "0.019306977288832496 RMSE: 2.0521414\n",
      "0.026826957952797246 RMSE: 2.0521414\n",
      "0.03727593720314938 RMSE: 2.0521414\n",
      "0.05179474679231207 RMSE: 2.0521414\n",
      "0.07196856730011514 RMSE: 2.0521414\n",
      "0.1 RMSE: 2.0521414\n",
      "0.1389495494373136 RMSE: 2.0521414\n",
      "0.19306977288832497 RMSE: 2.0521414\n",
      "0.2682695795279722 RMSE: 2.0521414\n",
      "0.3727593720314938 RMSE: 2.0521414\n",
      "0.5179474679231213 RMSE: 2.0521414\n",
      "0.7196856730011514 RMSE: 2.0521414\n",
      "1.0 RMSE: 2.0521414\n",
      "1.389495494373136 RMSE: 2.0521414\n",
      "1.9306977288832496 RMSE: 2.0521414\n",
      "2.682695795279722 RMSE: 2.0521414\n",
      "3.727593720314938 RMSE: 2.0521414\n",
      "5.179474679231202 RMSE: 2.0521414\n",
      "7.196856730011514 RMSE: 2.0521414\n",
      "10.0 RMSE: 2.0521414\n",
      "13.89495494373136 RMSE: 2.0521414\n",
      "19.306977288832496 RMSE: 2.0521414\n",
      "26.82695795279722 RMSE: 2.0521414\n",
      "37.27593720314938 RMSE: 2.0521414\n",
      "51.79474679231202 RMSE: 2.0521414\n",
      "71.96856730011514 RMSE: 2.0521414\n",
      "100.0 RMSE: 2.0521414\n",
      "Optimum parameters: 1e-05 : 1.9890218\n"
     ]
    }
   ],
   "source": [
    "rmselist = []\n",
    "for r in rangelist:\n",
    "    lasso_model = Lasso(alpha = r)\n",
    "\n",
    "\n",
    "    def typechange(x):\n",
    "        return x.astype(dtype = np.float32)\n",
    "    typetransform = FunctionTransformer(typechange)\n",
    "\n",
    "    pipe = Pipeline([(\"tfidf_vector_com\", TfidfVectorizer(tokenizer=identity_tokenizer, input=\"array\", lowercase=False, norm=\"l2\", max_features=None, sublinear_tf=True,token_pattern=r'[^\\s]+')), (\"typetransform\", typetransform), (\"ridge_model\", lasso_model)])\n",
    "\n",
    "\n",
    "    pipe.fit(X=x_train, y=y_train)\n",
    "    y_pred = pipe.predict(x_test)\n",
    "    rmse = mean_squared_error(y_test, y_pred, squared = False)\n",
    "    print(r,'RMSE:', rmse)\n",
    "    rmselist.append(rmse)\n",
    "    \n",
    "min_index = rmselist.index((min(rmselist)))\n",
    "print(\"Optimum parameters:\", rangelist[min_index],\":\",min(rmselist))"
   ]
  },
  {
   "cell_type": "markdown",
   "id": "varying-concern",
   "metadata": {},
   "source": [
    "### Elastic Net"
   ]
  },
  {
   "cell_type": "code",
   "execution_count": 5,
   "id": "minimal-fighter",
   "metadata": {},
   "outputs": [
    {
     "name": "stdout",
     "output_type": "stream",
     "text": [
      "RMSE: 2.0521414\n"
     ]
    }
   ],
   "source": [
    "from sklearn.linear_model import ElasticNet\n",
    "\n",
    "ElasticNet_model = ElasticNet(alpha = 1, l1_ratio = 0.5)\n",
    "\n",
    "\n",
    "def typechange(x):\n",
    "    return x.astype(dtype = np.float32)\n",
    "typetransform = FunctionTransformer(typechange)\n",
    "\n",
    "pipe = Pipeline([(\"tfidf_vector_com\", TfidfVectorizer(tokenizer=identity_tokenizer, input=\"array\", lowercase=False, norm=\"l2\", max_features=None, sublinear_tf=True,token_pattern=r'[^\\s]+')), (\"typetransform\", typetransform), (\"ElasticNet_model\", ElasticNet_model)])\n",
    "\n",
    "\n",
    "pipe.fit(X=x_train, y=y_train)\n",
    "y_pred = pipe.predict(x_test)\n",
    "rmse = mean_squared_error(y_test, y_pred, squared = False)\n",
    "print('RMSE:', rmse)"
   ]
  },
  {
   "cell_type": "code",
   "execution_count": 9,
   "id": "utility-scottish",
   "metadata": {},
   "outputs": [
    {
     "data": {
      "text/plain": [
       "dict_keys(['memory', 'steps', 'verbose', 'typetransform', 'ElasticNet_model', 'typetransform__accept_sparse', 'typetransform__check_inverse', 'typetransform__func', 'typetransform__inv_kw_args', 'typetransform__inverse_func', 'typetransform__kw_args', 'typetransform__validate', 'ElasticNet_model__alpha', 'ElasticNet_model__copy_X', 'ElasticNet_model__fit_intercept', 'ElasticNet_model__l1_ratio', 'ElasticNet_model__max_iter', 'ElasticNet_model__normalize', 'ElasticNet_model__positive', 'ElasticNet_model__precompute', 'ElasticNet_model__random_state', 'ElasticNet_model__selection', 'ElasticNet_model__tol', 'ElasticNet_model__warm_start'])"
      ]
     },
     "execution_count": 9,
     "metadata": {},
     "output_type": "execute_result"
    }
   ],
   "source": [
    "pipe.get_params().keys()"
   ]
  },
  {
   "cell_type": "code",
   "execution_count": null,
   "id": "engaged-montana",
   "metadata": {},
   "outputs": [],
   "source": [
    "from sklearn.model_selection import GridSearchCV\n",
    "from sklearn.model_selection import cross_validate\n",
    "rangelist = np.logspace(-5, 2, 10)\n",
    "l1_ratiolist = [0.1,0.2,0.3,0.4,0.5,0.6,0.7,0.8,0.9]\n",
    "params = {\n",
    "    'ElasticNet_model__alpha': rangelist,\n",
    "    'ElasticNet_model__l1_ratio': l1_ratiolist\n",
    "}\n",
    "\n",
    "\n",
    "\n",
    "pipe = Pipeline([(\"tfidf_vector_com\", TfidfVectorizer(tokenizer=identity_tokenizer, input=\"array\", lowercase=False, norm=\"l2\", max_features=None, sublinear_tf=True,token_pattern=r'[^\\s]+')), (\"typetransform\", typetransform), (\"ElasticNet_model\", ElasticNet_model)])\n",
    "\n",
    "gs = GridSearchCV(pipe, params, n_jobs=-1)\n",
    "gs.fit(X=x_train, y=y_train);\n",
    "print(gs.best_score_, gs.best_params_)"
   ]
  },
  {
   "cell_type": "code",
   "execution_count": null,
   "id": "taken-cosmetic",
   "metadata": {},
   "outputs": [],
   "source": []
  }
 ],
 "metadata": {
  "kernelspec": {
   "display_name": "Python [conda env:DataSciEnv]",
   "language": "python",
   "name": "conda-env-DataSciEnv-py"
  },
  "language_info": {
   "codemirror_mode": {
    "name": "ipython",
    "version": 3
   },
   "file_extension": ".py",
   "mimetype": "text/x-python",
   "name": "python",
   "nbconvert_exporter": "python",
   "pygments_lexer": "ipython3",
   "version": "3.8.8"
  }
 },
 "nbformat": 4,
 "nbformat_minor": 5
}
